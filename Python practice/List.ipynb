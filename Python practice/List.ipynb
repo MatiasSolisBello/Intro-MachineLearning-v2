{
  "nbformat": 4,
  "nbformat_minor": 0,
  "metadata": {
    "colab": {
      "provenance": []
    },
    "kernelspec": {
      "name": "python3",
      "display_name": "Python 3"
    },
    "language_info": {
      "name": "python"
    }
  },
  "cells": [
    {
      "cell_type": "code",
      "source": [
        "\"\"\" \n",
        "Ejercicio 1\n",
        "\n",
        "Escribir un programa que almacene las asignaturas de un curso \n",
        "(por ejemplo Matemáticas, Física, Química, Historia y Lengua) en una lista y la\n",
        " muestre por pantalla.\n",
        "\"\"\"\n",
        "subjects = [\"Math\", \"Physical\", \"Chemistry\", \"History\", \"Languaje\"]\n",
        "print(subjects)"
      ],
      "metadata": {
        "colab": {
          "base_uri": "https://localhost:8080/"
        },
        "id": "dXycHCvNZMdN",
        "outputId": "92c54230-db1c-4c56-d45d-3ec8e6fc9a36"
      },
      "execution_count": null,
      "outputs": [
        {
          "output_type": "stream",
          "name": "stdout",
          "text": [
            "['Math', 'Physical', 'Chemistry', 'History', 'Languaje']\n"
          ]
        }
      ]
    },
    {
      "cell_type": "code",
      "source": [
        "\"\"\"\n",
        "Ejercicio 2\n",
        "\n",
        "Escribir un programa que almacene las asignaturas de un curso \n",
        "(por ejemplo Matemáticas, Física, Química, Historia y Lengua) en una lista y la\n",
        "muestre por pantalla el mensaje Yo estudio <asignatura>, donde <asignatura> es\n",
        "cada una de las asignaturas de la lista.\n",
        "\"\"\"\n",
        "for subject in subjects:\n",
        "  print(\"I study\", subject)"
      ],
      "metadata": {
        "colab": {
          "base_uri": "https://localhost:8080/"
        },
        "id": "trN1cqVzZyYJ",
        "outputId": "221b20b5-ed77-4afa-d177-38c4bf1a89ad"
      },
      "execution_count": null,
      "outputs": [
        {
          "output_type": "stream",
          "name": "stdout",
          "text": [
            "I study Math\n",
            "I study Physical\n",
            "I study Chemistry\n",
            "I study History\n",
            "I study Languaje\n"
          ]
        }
      ]
    },
    {
      "cell_type": "code",
      "source": [
        "\"\"\"\n",
        "Ejercicio 3\n",
        "\n",
        "Escribir un programa que almacene las asignaturas de un curso (por ejemplo \n",
        "Matemáticas, Física, Química, Historia y Lengua) en una lista, pregunte al \n",
        "usuario la nota que ha sacado en cada asignatura, y después las muestre por \n",
        "pantalla con el mensaje En <asignatura> has sacado <nota> donde <asignatura> \n",
        "es cada una des las asignaturas de la lista y <nota> cada una de las \n",
        "correspondientes notas introducidas por el usuario.\n",
        "\"\"\"\n",
        "grades = []\n",
        "for subject in subjects:\n",
        "  grade = input(f'¿What grade have you get in {subject}?')\n",
        "  grades.append(grade)\n",
        "\n",
        "for subject, grade in zip(subjects, grades):\n",
        "  print(f'In {subject} you have a grade of {grade}')"
      ],
      "metadata": {
        "colab": {
          "base_uri": "https://localhost:8080/"
        },
        "id": "jVqYyYsHaLXP",
        "outputId": "2330d44e-8423-4408-f1f2-b47cecccaae3"
      },
      "execution_count": null,
      "outputs": [
        {
          "output_type": "stream",
          "name": "stdout",
          "text": [
            "¿What grade have you get in Math?6\n",
            "¿What grade have you get in Physical?5\n",
            "¿What grade have you get in Chemistry?7\n",
            "¿What grade have you get in History?5\n",
            "¿What grade have you get in Languaje?6\n",
            "In Math you have a grade of 6\n",
            "In Physical you have a grade of 5\n",
            "In Chemistry you have a grade of 7\n",
            "In History you have a grade of 5\n",
            "In Languaje you have a grade of 6\n"
          ]
        }
      ]
    },
    {
      "cell_type": "code",
      "source": [
        "\"\"\"\n",
        "Ejercicio 4\n",
        "\n",
        "Escribir un programa que pregunte al usuario los números ganadores de la lotería\n",
        "primitiva, los almacene en una lista y los muestre por pantalla ordenados de \n",
        "menor a mayor.\n",
        "\"\"\"\n",
        "numbers = []\n",
        "\n",
        "for i in range(6):\n",
        "  number = input(f'¿What is the number {i+1}?  -> ')\n",
        "  numbers.append(number)\n",
        "\n",
        "print('')\n",
        "print(sorted(numbers))"
      ],
      "metadata": {
        "colab": {
          "base_uri": "https://localhost:8080/"
        },
        "id": "Pc8oFJTXcM9t",
        "outputId": "22d90f7f-94fe-46b9-a364-c3a7ee11ac05"
      },
      "execution_count": null,
      "outputs": [
        {
          "output_type": "stream",
          "name": "stdout",
          "text": [
            "¿What is the number 1?  -> 5\n",
            "¿What is the number 2?  -> 1\n",
            "¿What is the number 3?  -> 7\n",
            "¿What is the number 4?  -> 3\n",
            "¿What is the number 5?  -> 8\n",
            "¿What is the number 6?  -> 2\n",
            "['1', '2', '3', '5', '7', '8']\n"
          ]
        }
      ]
    },
    {
      "cell_type": "code",
      "source": [
        "\"\"\"\n",
        "Ejercicio 5\n",
        "\n",
        "Escribir un programa que almacene en una lista los números del 1 al 10 y los \n",
        "muestre por pantalla en orden inverso separados por comas.\n",
        "\"\"\"\n",
        "numbers = [1, 2, 3, 4, 5, 6, 7, 8, 9, 10]\n",
        "for i in range(1, 11):\n",
        "    print(numbers[-i], end=\", \")"
      ],
      "metadata": {
        "colab": {
          "base_uri": "https://localhost:8080/"
        },
        "id": "XWdqhxlHddZF",
        "outputId": "042707b2-e993-49a1-8cb4-fc2ca5797ca5"
      },
      "execution_count": null,
      "outputs": [
        {
          "output_type": "stream",
          "name": "stdout",
          "text": [
            "10, 9, 8, 7, 6, 5, 4, 3, 2, 1, "
          ]
        }
      ]
    },
    {
      "cell_type": "code",
      "source": [
        "\"\"\"\n",
        "Ejercicio 6\n",
        "\n",
        "Escribir un programa que almacene las asignaturas de un curso (por ejemplo \n",
        "Matemáticas, Física, Química, Historia y Lengua) en una lista, pregunte al \n",
        "usuario la nota que ha sacado en cada asignatura y elimine de la lista las \n",
        "asignaturas aprobadas. Al final el programa debe mostrar por pantalla las \n",
        "asignaturas que el usuario tiene que repetir.\n",
        "\"\"\"\n",
        "grades = []\n",
        "for subject in subjects:\n",
        "  grade = int(input(f'¿What grade have you get in {subject}?  R: '))\n",
        "  grades.append(grade)\n",
        "\n",
        "for subject, grade in zip(subjects, grades):\n",
        "  if grade >= 4:\n",
        "    print(f'In {subject} you have a grade of {grade}')\n",
        "    subjects.pop(subject)\n",
        "print(subjects)"
      ],
      "metadata": {
        "id": "dVHjs76xev7N",
        "colab": {
          "base_uri": "https://localhost:8080/"
        },
        "outputId": "3d67b585-571b-4a80-d749-831d1d7bec83"
      },
      "execution_count": null,
      "outputs": [
        {
          "output_type": "stream",
          "name": "stdout",
          "text": [
            "¿What grade have you get in Physical?  R: 6\n",
            "¿What grade have you get in History?  R: 3\n",
            "¿What grade have you get in Languaje?  R: 6\n",
            "In Physical you have a grade of 6\n",
            "['History', 'Languaje']\n"
          ]
        }
      ]
    },
    {
      "cell_type": "code",
      "source": [
        "\"\"\"\n",
        "Ejercicio 7\n",
        "\n",
        "Escribir un programa que almacene el abecedario en una lista, elimine de la \n",
        "lista las letras que ocupen posiciones múltiplos de 3, y muestre por pantalla \n",
        "la lista resultante.\n",
        "\"\"\"\n",
        "alphabet = ['a', 'b', 'c', 'd', 'e', 'f', 'g', 'h', 'i', 'j', 'k', 'l', 'm', \n",
        "            'n', 'ñ', 'o', 'p', 'q', 'r', 's', 't', 'u', 'v', 'w', 'x', 'y', \n",
        "            'z']\n",
        "\n",
        "for i in range(len(alphabet), 1, -1):\n",
        "    if i % 3 == 0:\n",
        "        alphabet.pop(i-1)\n",
        "print(alphabet)"
      ],
      "metadata": {
        "colab": {
          "base_uri": "https://localhost:8080/"
        },
        "id": "HhxD3e13XgR0",
        "outputId": "ee589ba6-8051-41af-a528-e4bd8bd90336"
      },
      "execution_count": null,
      "outputs": [
        {
          "output_type": "stream",
          "name": "stdout",
          "text": [
            "['a', 'b', 'd', 'e', 'g', 'h', 'j', 'k', 'm', 'n', 'o', 'p', 'r', 's', 'u', 'v', 'x', 'y']\n"
          ]
        }
      ]
    },
    {
      "cell_type": "code",
      "source": [
        "\"\"\"\n",
        "Ejercicio 8\n",
        "\n",
        "Escribir un programa que pida al usuario una palabra y muestre por pantalla si \n",
        "es un palíndromo.\n",
        "\"\"\"\n",
        "word = input('Write a word: ')\n",
        "\n",
        "list_word = list(word)\n",
        "\n",
        "list_word_inverse = list(word)\n",
        "list_word_inverse.reverse()\n",
        "\n",
        "if list_word == list_word_inverse:\n",
        "  print(f'{word} is a palindrome')\n",
        "else:\n",
        "  print(f'{word} is not a palindrome')"
      ],
      "metadata": {
        "colab": {
          "base_uri": "https://localhost:8080/"
        },
        "id": "aRHZQtoQZQXx",
        "outputId": "2cc2743e-884f-4130-b73b-b05145f52bf4"
      },
      "execution_count": 6,
      "outputs": [
        {
          "output_type": "stream",
          "name": "stdout",
          "text": [
            "Write a word: otto\n",
            "otto is a palindrome\n"
          ]
        }
      ]
    },
    {
      "cell_type": "code",
      "source": [
        "\"\"\"\n",
        "Ejercicio 9\n",
        "\n",
        "Escribir un programa que pida al usuario una palabra y muestre por pantalla el \n",
        "número de veces que contiene cada vocal.\n",
        "\"\"\"\n",
        "vocals = ['a', 'e', 'i', 'o', 'u']\n",
        "word = input('Write a word: ')\n",
        "word = list(word)\n",
        "\n",
        "for vocal in vocals:\n",
        "  count = 0\n",
        "  for letter in word:\n",
        "    if vocal == letter:\n",
        "      count += 1\n",
        "  print(f'Vocal {vocal} - {count}')"
      ],
      "metadata": {
        "colab": {
          "base_uri": "https://localhost:8080/"
        },
        "id": "wF5Y4TCv6DuF",
        "outputId": "ecf26b42-8a2b-4be4-f879-7f520c121f87"
      },
      "execution_count": 13,
      "outputs": [
        {
          "output_type": "stream",
          "name": "stdout",
          "text": [
            "Write a word: murcielago\n",
            "Vocal a - 1\n",
            "Vocal e - 1\n",
            "Vocal i - 1\n",
            "Vocal o - 1\n",
            "Vocal u - 1\n"
          ]
        }
      ]
    },
    {
      "cell_type": "code",
      "source": [
        "\"\"\"\n",
        "Ejercicio 10\n",
        "\n",
        "Escribir un programa que almacene en una lista los siguientes precios, \n",
        "50, 75, 46, 22, 80, 65, 8, y muestre por pantalla el menor y el mayor de los \n",
        "precios.\n",
        "\"\"\"\n",
        "prices = [50, 75, 46, 22, 80, 65, 8]\n",
        "print(max(prices))\n",
        "print(min(prices))"
      ],
      "metadata": {
        "colab": {
          "base_uri": "https://localhost:8080/"
        },
        "id": "5l39jqUs8_jN",
        "outputId": "10c257cc-b4c4-43e1-e4ac-ecba5bc90cf0"
      },
      "execution_count": 18,
      "outputs": [
        {
          "output_type": "stream",
          "name": "stdout",
          "text": [
            "80\n",
            "8\n"
          ]
        }
      ]
    },
    {
      "cell_type": "code",
      "source": [
        "\"\"\"\n",
        "Ejercicio 11\n",
        "\n",
        "Escribir un programa que almacene los vectores (1,2,3) y (-1,0,2) en dos listas \n",
        "y muestre por pantalla su producto escalar.\n",
        "\"\"\"\n",
        "a = [1,2,3]\n",
        "b = [-1,0,2]\n",
        "product = 0\n",
        "for i in range(len(a)):\n",
        "    product += a[i]*b[i]\n",
        "print(product)"
      ],
      "metadata": {
        "colab": {
          "base_uri": "https://localhost:8080/"
        },
        "id": "XrywMX5x-VY1",
        "outputId": "4b79e3da-e9e5-4327-d8e4-4732434feaec"
      },
      "execution_count": 19,
      "outputs": [
        {
          "output_type": "stream",
          "name": "stdout",
          "text": [
            "5\n"
          ]
        }
      ]
    }
  ]
}