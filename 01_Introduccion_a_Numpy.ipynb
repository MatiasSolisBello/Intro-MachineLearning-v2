{
  "nbformat": 4,
  "nbformat_minor": 0,
  "metadata": {
    "colab": {
      "name": "01. Introduccion a Numpy.ipynb",
      "provenance": [],
      "collapsed_sections": []
    },
    "kernelspec": {
      "name": "python3",
      "display_name": "Python 3"
    },
    "language_info": {
      "name": "python"
    }
  },
  "cells": [
    {
      "cell_type": "code",
      "execution_count": 3,
      "metadata": {
        "id": "tPB54RqWjiKZ"
      },
      "outputs": [],
      "source": [
        "# Importa numpy\n",
        "import numpy as np"
      ]
    },
    {
      "cell_type": "code",
      "source": [
        "# Crear array\n",
        "array = np.array(\n",
        "    [[1,  6, 11],\n",
        "    [2,  7, 12],\n",
        "    [3,  8, 13],\n",
        "    [4,  9, 14],\n",
        "    [5, 10, 15]]\n",
        ")"
      ],
      "metadata": {
        "id": "HhvNy2w5krWg"
      },
      "execution_count": 4,
      "outputs": []
    },
    {
      "cell_type": "code",
      "source": [
        "# Averigua la forma del array (5 filas x 2 columnas)\n",
        "array.shape"
      ],
      "metadata": {
        "colab": {
          "base_uri": "https://localhost:8080/"
        },
        "id": "_TH44a2elCLJ",
        "outputId": "588b2dd2-8419-4d58-fab6-f4f42f7a3092"
      },
      "execution_count": 5,
      "outputs": [
        {
          "output_type": "execute_result",
          "data": {
            "text/plain": [
              "(5, 3)"
            ]
          },
          "metadata": {},
          "execution_count": 5
        }
      ]
    },
    {
      "cell_type": "code",
      "source": [
        "# Selecciona la segunda columna del array (El array parte contando desde 0)\n",
        "array[:, 1]"
      ],
      "metadata": {
        "colab": {
          "base_uri": "https://localhost:8080/"
        },
        "id": "dG-rCO-SlGaX",
        "outputId": "3db5ee4f-e4f0-4362-b94a-c49b8b34e973"
      },
      "execution_count": 13,
      "outputs": [
        {
          "output_type": "execute_result",
          "data": {
            "text/plain": [
              "array([ 6,  7,  8,  9, 10])"
            ]
          },
          "metadata": {},
          "execution_count": 13
        }
      ]
    },
    {
      "cell_type": "code",
      "source": [
        "# Crea un vector con los valores del 15 al 55, llamalo array2. Pista: usa np.arange\n",
        "array2 = np.arange(15,56)\n",
        "array2"
      ],
      "metadata": {
        "colab": {
          "base_uri": "https://localhost:8080/"
        },
        "id": "GERJExv0l3lp",
        "outputId": "7f3729e5-92f2-4584-9512-b4075410250b"
      },
      "execution_count": 10,
      "outputs": [
        {
          "output_type": "execute_result",
          "data": {
            "text/plain": [
              "array([15, 16, 17, 18, 19, 20, 21, 22, 23, 24, 25, 26, 27, 28, 29, 30, 31,\n",
              "       32, 33, 34, 35, 36, 37, 38, 39, 40, 41, 42, 43, 44, 45, 46, 47, 48,\n",
              "       49, 50, 51, 52, 53, 54, 55])"
            ]
          },
          "metadata": {},
          "execution_count": 10
        }
      ]
    },
    {
      "cell_type": "code",
      "source": [
        "# Asigna el valor 23 a la quinta posicion del array2\n",
        "array2[4] = 23\n",
        "array2"
      ],
      "metadata": {
        "colab": {
          "base_uri": "https://localhost:8080/"
        },
        "id": "Mfa_M8YTmq9B",
        "outputId": "2df71841-6e46-481c-e848-b0ff09fd8ebf"
      },
      "execution_count": 15,
      "outputs": [
        {
          "output_type": "execute_result",
          "data": {
            "text/plain": [
              "array([15, 16, 17, 18, 23, 20, 21, 22, 23, 24, 25, 26, 27, 28, 29, 30, 31,\n",
              "       32, 33, 34, 35, 36, 37, 38, 39, 40, 41, 42, 43, 44, 45, 46, 47, 48,\n",
              "       49, 50, 51, 52, 53, 54, 55])"
            ]
          },
          "metadata": {},
          "execution_count": 15
        }
      ]
    },
    {
      "cell_type": "code",
      "source": [
        "# Convierte array2 del revés (es decir [55,54,....,15]\n",
        "array2[::-1]"
      ],
      "metadata": {
        "colab": {
          "base_uri": "https://localhost:8080/"
        },
        "id": "YoLXld94oC3l",
        "outputId": "dc02e806-a773-4c0d-90b0-33a93270f1c5"
      },
      "execution_count": 19,
      "outputs": [
        {
          "output_type": "execute_result",
          "data": {
            "text/plain": [
              "array([55, 54, 53, 52, 51, 50, 49, 48, 47, 46, 45, 44, 43, 42, 41, 40, 39,\n",
              "       38, 37, 36, 35, 34, 33, 32, 31, 30, 29, 28, 27, 26, 25, 24, 23, 22,\n",
              "       21, 20, 23, 18, 17, 16, 15])"
            ]
          },
          "metadata": {},
          "execution_count": 19
        }
      ]
    },
    {
      "cell_type": "code",
      "source": [
        "# Crea una matriz diagonal donde los elementos de la diagonal sean los 5 primeros valores pares de array2, llamala matriz_diag\n",
        "# pista: usa np.diag"
      ],
      "metadata": {
        "id": "tzIWpK12vgsB"
      },
      "execution_count": null,
      "outputs": []
    },
    {
      "cell_type": "code",
      "source": [
        "      # Ver pares --> arr[par/impar::saltos]\n",
        "      array2[1::2]"
      ],
      "metadata": {
        "colab": {
          "base_uri": "https://localhost:8080/"
        },
        "id": "3Mw4hhxwtjRE",
        "outputId": "71cbf284-f635-4ee6-dc6e-917cf1216790"
      },
      "execution_count": 31,
      "outputs": [
        {
          "output_type": "execute_result",
          "data": {
            "text/plain": [
              "array([16, 18, 20, 22, 24, 26, 28, 30, 32, 34, 36, 38, 40, 42, 44, 46, 48,\n",
              "       50, 52, 54])"
            ]
          },
          "metadata": {},
          "execution_count": 31
        }
      ]
    },
    {
      "cell_type": "code",
      "source": [
        "      #ver pares con 5 primeros\n",
        "      array2[1::2][:5]"
      ],
      "metadata": {
        "colab": {
          "base_uri": "https://localhost:8080/"
        },
        "id": "2yzJsrC7tucX",
        "outputId": "58891edb-edec-405f-911d-753094895443"
      },
      "execution_count": 25,
      "outputs": [
        {
          "output_type": "execute_result",
          "data": {
            "text/plain": [
              "array([16, 18, 20, 22, 24])"
            ]
          },
          "metadata": {},
          "execution_count": 25
        }
      ]
    },
    {
      "cell_type": "code",
      "source": [
        "matriz_diag = np.diag(array2[1::2][:5])\n",
        "matriz_diag"
      ],
      "metadata": {
        "colab": {
          "base_uri": "https://localhost:8080/"
        },
        "id": "QyPK3RVsucaJ",
        "outputId": "7203ac37-d34f-4cb2-e744-fb6aaaa872bb"
      },
      "execution_count": 33,
      "outputs": [
        {
          "output_type": "execute_result",
          "data": {
            "text/plain": [
              "array([[16,  0,  0,  0,  0],\n",
              "       [ 0, 18,  0,  0,  0],\n",
              "       [ 0,  0, 20,  0,  0],\n",
              "       [ 0,  0,  0, 22,  0],\n",
              "       [ 0,  0,  0,  0, 24]])"
            ]
          },
          "metadata": {},
          "execution_count": 33
        }
      ]
    },
    {
      "cell_type": "code",
      "source": [
        "# Imprime el numero de dimensiones de matriz_diag\n",
        "matriz_diag.ndim"
      ],
      "metadata": {
        "colab": {
          "base_uri": "https://localhost:8080/"
        },
        "id": "ukwFUfZUpt8t",
        "outputId": "45c052be-87e0-44c7-8ca4-12b6dbe4225c"
      },
      "execution_count": 34,
      "outputs": [
        {
          "output_type": "execute_result",
          "data": {
            "text/plain": [
              "2"
            ]
          },
          "metadata": {},
          "execution_count": 34
        }
      ]
    },
    {
      "cell_type": "code",
      "source": [
        "# Crea una matriz con números aleatorios de tamaño 5x3 (4 filas por 3 columnas), llamala matriz\n",
        "matriz = np.random.random((5,3))\n",
        "matriz"
      ],
      "metadata": {
        "colab": {
          "base_uri": "https://localhost:8080/"
        },
        "id": "e16bBDFmpxNE",
        "outputId": "7966d4cb-96bb-4fc0-f0cc-1baa6c16701b"
      },
      "execution_count": 35,
      "outputs": [
        {
          "output_type": "execute_result",
          "data": {
            "text/plain": [
              "array([[0.15662781, 0.63584206, 0.02790964],\n",
              "       [0.82960343, 0.18974344, 0.64930255],\n",
              "       [0.06564144, 0.01665107, 0.83138478],\n",
              "       [0.77337658, 0.76483699, 0.76018388],\n",
              "       [0.92135513, 0.68365887, 0.70391165]])"
            ]
          },
          "metadata": {},
          "execution_count": 35
        }
      ]
    },
    {
      "cell_type": "code",
      "source": [
        "# Multiplica matriz por matriz_diag\n",
        "matriz.T.shape\n",
        "matriz.T @ matriz_diag"
      ],
      "metadata": {
        "colab": {
          "base_uri": "https://localhost:8080/"
        },
        "id": "69VYIpj8p0TY",
        "outputId": "7a6c1bea-55f2-443c-acbb-7cf17d8862bc"
      },
      "execution_count": 38,
      "outputs": [
        {
          "output_type": "execute_result",
          "data": {
            "text/plain": [
              "array([[ 2.50604489, 14.93286168,  1.31282874, 17.01428484, 22.11252302],\n",
              "       [10.17347298,  3.41538187,  0.33302134, 16.82641382, 16.40781277],\n",
              "       [ 0.44655419, 11.68744588, 16.62769558, 16.72404547, 16.89387955]])"
            ]
          },
          "metadata": {},
          "execution_count": 38
        }
      ]
    }
  ]
}